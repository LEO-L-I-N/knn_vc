{
  "nbformat": 4,
  "nbformat_minor": 0,
  "metadata": {
    "colab": {
      "provenance": [],
      "gpuType": "T4"
    },
    "kernelspec": {
      "name": "python3",
      "display_name": "Python 3"
    },
    "language_info": {
      "name": "python"
    },
    "accelerator": "GPU"
  },
  "cells": [
    {
      "cell_type": "code",
      "execution_count": 1,
      "metadata": {
        "colab": {
          "base_uri": "https://localhost:8080/"
        },
        "id": "L8If-TOe4BZO",
        "outputId": "0ed08fba-ad75-48a9-be34-b4976f286bb7"
      },
      "outputs": [
        {
          "output_type": "stream",
          "name": "stderr",
          "text": [
            "Downloading: \"https://github.com/bshall/knn-vc/zipball/master\" to /root/.cache/torch/hub/master.zip\n",
            "Downloading: \"https://github.com/bshall/knn-vc/releases/download/v0.1/prematch_g_02500000.pt\" to /root/.cache/torch/hub/checkpoints/prematch_g_02500000.pt\n",
            "100%|██████████| 63.1M/63.1M [00:03<00:00, 20.5MB/s]\n",
            "Downloading: \"https://github.com/bshall/knn-vc/releases/download/v0.1/WavLM-Large.pt\" to /root/.cache/torch/hub/checkpoints/WavLM-Large.pt\n"
          ]
        },
        {
          "output_type": "stream",
          "name": "stdout",
          "text": [
            "Removing weight norm...\n",
            "[HiFiGAN] Generator loaded with 16,523,393 parameters.\n"
          ]
        },
        {
          "output_type": "stream",
          "name": "stderr",
          "text": [
            "100%|██████████| 1.18G/1.18G [00:43<00:00, 28.8MB/s]\n"
          ]
        },
        {
          "output_type": "stream",
          "name": "stdout",
          "text": [
            "WavLM-Large loaded with 315,453,120 parameters.\n"
          ]
        }
      ],
      "source": [
        "import torch, torchaudio\n",
        "\n",
        "knn_vc = torch.hub.load('bshall/knn-vc', 'knn_vc', prematched=True, trust_repo=True, pretrained=True, device='cuda')"
      ]
    },
    {
      "cell_type": "code",
      "source": [
        "# path to 16kHz, single-channel, source waveform\n",
        "src_wav_path = '/content/src.wav'\n",
        "# list of paths to all reference waveforms (each must be 16kHz, single-channel) from the target speaker\n",
        "ref_wav_paths = ['/content/ref1.wav', ]\n",
        "\n",
        "query_seq = knn_vc.get_features(src_wav_path)\n",
        "matching_set = knn_vc.get_matching_set(ref_wav_paths)"
      ],
      "metadata": {
        "id": "OSTHzOc14In5"
      },
      "execution_count": 2,
      "outputs": []
    },
    {
      "cell_type": "code",
      "source": [
        "out_wav = knn_vc.match(query_seq, matching_set, topk=4)"
      ],
      "metadata": {
        "id": "UREha7VM4idc"
      },
      "execution_count": 3,
      "outputs": []
    },
    {
      "cell_type": "code",
      "source": [
        "import IPython.display as ipd"
      ],
      "metadata": {
        "id": "1YhPSQ4f4nF0"
      },
      "execution_count": 4,
      "outputs": []
    },
    {
      "cell_type": "code",
      "source": [
        "ipd.Audio(out_wav.numpy(), rate=16000)"
      ],
      "metadata": {
        "id": "7-xbWSqf7iAK"
      },
      "execution_count": null,
      "outputs": []
    },
    {
      "cell_type": "code",
      "source": [
        "torchaudio.save('knnvc1_out.wav', out_wav[None], 16000)"
      ],
      "metadata": {
        "id": "QDA9xO_mB1eD"
      },
      "execution_count": null,
      "outputs": []
    },
    {
      "cell_type": "markdown",
      "source": [
        "<audio name=\"abstract-reader\" controls preload src=\"https://github.com/bshall/knn-vc/releases/download/v0.1/david-attenborough.wav\"></audio>"
      ],
      "metadata": {
        "id": "wyWtICjSECkF"
      }
    }
  ]
}